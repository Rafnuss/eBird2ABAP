{
 "cells": [
  {
   "cell_type": "code",
   "execution_count": 18,
   "metadata": {},
   "outputs": [
    {
     "data": {
      "text/plain": [
       "<module 'eBird2ABAP.ebird2card' from '/Users/rafnuss/Library/CloudStorage/OneDrive-Vogelwarte/eBird2ABAP/eBird2ABAP/ebird2card.py'>"
      ]
     },
     "execution_count": 18,
     "metadata": {},
     "output_type": "execute_result"
    }
   ],
   "source": [
    "import pandas as pd\n",
    "import numpy as np\n",
    "import json\n",
    "import os\n",
    "import datetime\n",
    "import requests\n",
    "import tarfile\n",
    "import sys\n",
    "import csv\n",
    "import importlib\n",
    "\n",
    "# Add the parent directory to the system path so the notebook can find the eBird2ABAP package\n",
    "sys.path.append(os.path.abspath(\"../\"))\n",
    "\n",
    "import eBird2ABAP\n",
    "\n",
    "# Reload the module to apply changes\n",
    "# importlib.reload(eBird2ABAP.ebird2card)"
   ]
  },
  {
   "cell_type": "code",
   "execution_count": 2,
   "metadata": {},
   "outputs": [],
   "source": [
    "year = \"2024\"\n",
    "month = \"Jul\"\n",
    "\n",
    "# file = \"../data/eBird/ebd_AFR_rel{month}-{year}/ebd_AFR_rel{month}-{year}.txt.gz\"\n",
    "file = f\"../data/eBird/ebd_AFR_rel{month}-{year}/ebd_AFR_rel{month}-{year}.txt.gz\"\n",
    "# file = \"../data/eBird/ebd_AFR_relJul-2024/ebd_AFR_relJul-2024.txt.gz\"\n",
    "\n",
    "ebd = read_EBD(file)"
   ]
  },
  {
   "cell_type": "code",
   "execution_count": 3,
   "metadata": {},
   "outputs": [
    {
     "name": "stdout",
     "output_type": "stream",
     "text": [
      "We still have 1260 unmatched taxons, corresponding to 7% of our data\n"
     ]
    },
    {
     "data": {
      "text/plain": [
       "SCIENTIFIC NAME        \n",
       "Icthyophaga vocifer        90635\n",
       "Spermestes cucullata       82830\n",
       "Columba livia              62539\n",
       "Zapornia flavirostra       51197\n",
       "Lanius melanoleucus        34528\n",
       "                           ...  \n",
       "Chamaea fasciata               1\n",
       "Chalcoparia singalensis        1\n",
       "Chaetura pelagica              1\n",
       "Turnix velox                   1\n",
       "Sicalis luteola                1\n",
       "Name: count, Length: 1260, dtype: int64"
      ]
     },
     "execution_count": 3,
     "metadata": {},
     "output_type": "execute_result"
    }
   ],
   "source": [
    "add_ADU(ebd, return_unmatched=True)"
   ]
  },
  {
   "cell_type": "code",
   "execution_count": 4,
   "metadata": {},
   "outputs": [
    {
     "name": "stdout",
     "output_type": "stream",
     "text": [
      "# data: 21190167\n",
      "# Checklists: 1262874\n",
      "# Species: 3127\n"
     ]
    }
   ],
   "source": [
    "ebd = add_ADU(ebd)\n",
    "print(f\"# data: {len(ebd)}\")\n",
    "print(f\"# Checklists: {len(ebd['SAMPLING EVENT IDENTIFIER'].unique())}\")\n",
    "print(f\"# Species: {len(ebd['SCIENTIFIC NAME'].unique())}\")"
   ]
  },
  {
   "cell_type": "code",
   "execution_count": 5,
   "metadata": {},
   "outputs": [],
   "source": [
    "chk = ebd2chk(ebd)"
   ]
  },
  {
   "cell_type": "code",
   "execution_count": 6,
   "metadata": {},
   "outputs": [],
   "source": [
    "card_valid = chk2valid_card(chk)"
   ]
  },
  {
   "cell_type": "code",
   "execution_count": 7,
   "metadata": {},
   "outputs": [],
   "source": [
    "chk_card = valid_card2chk_card(chk, card_valid)"
   ]
  },
  {
   "cell_type": "code",
   "execution_count": 19,
   "metadata": {},
   "outputs": [],
   "source": [
    "card_chk = chk_card2card_chk(chk_card, card_valid)"
   ]
  },
  {
   "cell_type": "code",
   "execution_count": 20,
   "metadata": {},
   "outputs": [],
   "source": [
    "ebd_f_u = chk_card2ebd_f_u(ebd, chk_card)"
   ]
  },
  {
   "cell_type": "code",
   "execution_count": 21,
   "metadata": {},
   "outputs": [],
   "source": [
    "card_exp = ebd_f_u2card_exp(card_chk, ebd_f_u)"
   ]
  },
  {
   "cell_type": "code",
   "execution_count": 22,
   "metadata": {},
   "outputs": [
    {
     "data": {
      "text/plain": [
       "62396"
      ]
     },
     "execution_count": 22,
     "metadata": {},
     "output_type": "execute_result"
    }
   ],
   "source": [
    "len(card_exp)"
   ]
  },
  {
   "cell_type": "code",
   "execution_count": 23,
   "metadata": {},
   "outputs": [],
   "source": [
    "json_data = card_exp.to_json(orient=\"records\", indent=2)\n",
    "with open(\n",
    "    f\"../export/ebd_AFR_rel{month}-{year}_{datetime.datetime.now().strftime('%Y%m%d_%H%M%S')}.json\",\n",
    "    \"w\",\n",
    ") as f:\n",
    "    f.write(json_data)"
   ]
  },
  {
   "cell_type": "code",
   "execution_count": null,
   "metadata": {},
   "outputs": [],
   "source": [
    "card_chk.to_csv(\n",
    "    f\"../export/ebd_AFR_rel{month}-{year}_{datetime.datetime.now().strftime('%Y%m%d_%H%M%S')}_cards.csv\",\n",
    "    index=False,\n",
    ")"
   ]
  },
  {
   "cell_type": "code",
   "execution_count": null,
   "metadata": {},
   "outputs": [],
   "source": [
    "ebd_f_u[[\"CARD\", \"ADU\", \"SEQ\"]].to_csv(\n",
    "    f\"../export/ebd_AFR_rel{month}-{year}_{datetime.datetime.now().strftime('%Y%m%d_%H%M%S')}_records.csv\",\n",
    "    index=False,\n",
    ")"
   ]
  }
 ],
 "metadata": {
  "kernelspec": {
   "display_name": "Python 3",
   "language": "python",
   "name": "python3"
  },
  "language_info": {
   "codemirror_mode": {
    "name": "ipython",
    "version": 3
   },
   "file_extension": ".py",
   "mimetype": "text/x-python",
   "name": "python",
   "nbconvert_exporter": "python",
   "pygments_lexer": "ipython3",
   "version": "3.11.7"
  }
 },
 "nbformat": 4,
 "nbformat_minor": 2
}
